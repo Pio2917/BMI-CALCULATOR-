{
 "cells": [
  {
   "cell_type": "code",
   "execution_count": null,
   "metadata": {},
   "outputs": [],
   "source": [
    "#BMI=(Weight in pounds x 703) / (height in inches x height in inches)"
   ]
  },
  {
   "cell_type": "code",
   "execution_count": null,
   "metadata": {},
   "outputs": [
    {
     "name": "stdout",
     "output_type": "stream",
     "text": [
      "29.974585171182525\n",
      "stephen,You are obese\n"
     ]
    }
   ],
   "source": [
    "name=input(\"Enter your name:\")\n",
    "weight=int(input('enter your weight in pounds:'))\n",
    "height=int(input(\"enter your height in inches:\"))\n",
    "BMI=(weight*703)/(height*height)\n",
    "\n",
    "print(BMI)\n",
    "\n",
    "if BMI>0:\n",
    "    if(BMI<18.5):\n",
    "        print(name+\",You are underweight\")\n",
    "    elif(BMI<=24.9):\n",
    "        print(name+\",You are normal weight\")\n",
    "    elif(BMI<=29.9):\n",
    "        print(name+\",You are Overweight. You need more excercise\")\n",
    "    elif(BMI<=34.9):\n",
    "        print(name+\",You are obese\")\n",
    "    elif(BMI<=39.9):\n",
    "        print(name+\",You are severely obese.\")\n",
    "    else:\n",
    "        print(name+\",You are morbidly obese.\")\n",
    "\n",
    "    \n",
    "    "
   ]
  },
  {
   "cell_type": "code",
   "execution_count": 1,
   "metadata": {},
   "outputs": [
    {
     "name": "stdout",
     "output_type": "stream",
     "text": [
      "3.7\n",
      "Stephen,You are underweight\n"
     ]
    }
   ],
   "source": [
    "name=input(\"Enter Your First Name Only\")\n",
    "Weight=int(input('enter your weight in pounds'))\n",
    "height=int(input(\"enter your height in inches:\"))\n",
    "BMI=(Weight*703)/(height**2)\n",
    "\n",
    "print (BMI)\n",
    "\n",
    "if BMI>0:\n",
    "    if(BMI<18.5):\n",
    "        print(name+\",You are underweight\")\n",
    "    elif(BMI<=24.9):\n",
    "        print(name+\",You are normal weight\")\n",
    "    elif(BMI<=29.9):\n",
    "        print(name+\",You are Overweight. You need more excercise\")\n",
    "    elif(BMI<=34.9):\n",
    "        print(name+\",You are obese\")\n",
    "    elif(BMI<=39.9):\n",
    "        print(name+\",You are severely obese.\")\n",
    "    else:\n",
    "        print(name+\",You are morbidly obese.\")"
   ]
  },
  {
   "cell_type": "code",
   "execution_count": null,
   "metadata": {},
   "outputs": [],
   "source": []
  },
  {
   "cell_type": "code",
   "execution_count": null,
   "metadata": {},
   "outputs": [],
   "source": []
  },
  {
   "cell_type": "code",
   "execution_count": null,
   "metadata": {},
   "outputs": [],
   "source": []
  },
  {
   "cell_type": "code",
   "execution_count": null,
   "metadata": {},
   "outputs": [],
   "source": []
  },
  {
   "cell_type": "code",
   "execution_count": null,
   "metadata": {},
   "outputs": [],
   "source": []
  },
  {
   "cell_type": "code",
   "execution_count": null,
   "metadata": {},
   "outputs": [],
   "source": []
  }
 ],
 "metadata": {
  "kernelspec": {
   "display_name": "base",
   "language": "python",
   "name": "python3"
  },
  "language_info": {
   "codemirror_mode": {
    "name": "ipython",
    "version": 3
   },
   "file_extension": ".py",
   "mimetype": "text/x-python",
   "name": "python",
   "nbconvert_exporter": "python",
   "pygments_lexer": "ipython3",
   "version": "3.12.4"
  }
 },
 "nbformat": 4,
 "nbformat_minor": 2
}
